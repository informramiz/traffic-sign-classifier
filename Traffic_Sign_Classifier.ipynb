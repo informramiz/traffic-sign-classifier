{
 "cells": [
  {
   "cell_type": "markdown",
   "metadata": {},
   "source": [
    "# Self-Driving Car Engineer Nanodegree\n",
    "\n",
    "## Deep Learning\n",
    "\n",
    "## Project: Build a Traffic Sign Recognition Classifier\n",
    "\n",
    "In this notebook, a template is provided for you to implement your functionality in stages which is required to successfully complete this project. If additional code is required that cannot be included in the notebook, be sure that the Python code is successfully imported and included in your submission, if necessary. Sections that begin with **'Implementation'** in the header indicate where you should begin your implementation for your project. Note that some sections of implementation are optional, and will be marked with **'Optional'** in the header.\n",
    "\n",
    "In addition to implementing code, there will be questions that you must answer which relate to the project and your implementation. Each section where you will answer a question is preceded by a **'Question'** header. Carefully read each question and provide thorough answers in the following text boxes that begin with **'Answer:'**. Your project submission will be evaluated based on your answers to each of the questions and the implementation you provide.\n",
    "\n",
    ">**Note:** Code and Markdown cells can be executed using the **Shift + Enter** keyboard shortcut. In addition, Markdown cells can be edited by typically double-clicking the cell to enter edit mode."
   ]
  },
  {
   "cell_type": "markdown",
   "metadata": {},
   "source": [
    "---\n",
    "## Step 0: Load The Data"
   ]
  },
  {
   "cell_type": "code",
   "execution_count": 2,
   "metadata": {
    "collapsed": false
   },
   "outputs": [
    {
     "name": "stdout",
     "output_type": "stream",
     "text": [
      "Read of training and testing file complete.\n"
     ]
    }
   ],
   "source": [
    "# Load pickled data\n",
    "import pickle\n",
    "from keras.datasets import cifar10\n",
    "\n",
    "# TODO: Fill this in based on where you saved the training and testing data\n",
    "\n",
    "training_file = \"traffic-signs-data/train.p\"\n",
    "testing_file = \"traffic-signs-data/test.p\"\n",
    "\n",
    "with open(training_file, mode='rb') as f:\n",
    "    train = pickle.load(f)\n",
    "with open(testing_file, mode='rb') as f:\n",
    "    test = pickle.load(f)\n",
    "    \n",
    "X_train, y_train = train['features'], train['labels']\n",
    "X_test, y_test = test['features'], test['labels']\n",
    "\n",
    "print('Read of training and testing file complete.')"
   ]
  },
  {
   "cell_type": "markdown",
   "metadata": {},
   "source": [
    "---\n",
    "\n",
    "## Step 1: Dataset Summary & Exploration\n",
    "\n",
    "The pickled data is a dictionary with 4 key/value pairs:\n",
    "\n",
    "- `'features'` is a 4D array containing raw pixel data of the traffic sign images, (num examples, width, height, channels).\n",
    "- `'labels'` is a 2D array containing the label/class id of the traffic sign. The file `signnames.csv` contains id -> name mappings for each id.\n",
    "- `'sizes'` is a list containing tuples, (width, height) representing the the original width and height the image.\n",
    "- `'coords'` is a list containing tuples, (x1, y1, x2, y2) representing coordinates of a bounding box around the sign in the image. **THESE COORDINATES ASSUME THE ORIGINAL IMAGE. THE PICKLED DATA CONTAINS RESIZED VERSIONS (32 by 32) OF THESE IMAGES**\n",
    "\n",
    "Complete the basic data summary below."
   ]
  },
  {
   "cell_type": "code",
   "execution_count": null,
   "metadata": {
    "collapsed": false
   },
   "outputs": [],
   "source": [
    "### Replace each question mark with the appropriate value.\n",
    "\n",
    "# TODO: Number of training examples\n",
    "n_train = X_train.shape[0]\n",
    "\n",
    "# TODO: Number of testing examples.\n",
    "n_test = X_test.shape[0]\n",
    "\n",
    "# TODO: What's the shape of an traffic sign image?\n",
    "image_shape = X_test[0].shape\n",
    "\n",
    "# TODO: How many unique classes/labels there are in the dataset.\n",
    "n_classes = len(set(y_train))\n",
    "\n",
    "assert(len(X_train) == len(y_train))\n",
    "assert(len(X_test) == len(y_test))\n",
    "assert(image_shape == (32, 32, 3))\n",
    "\n",
    "print(\"Number of training examples =\", n_train)\n",
    "print(\"Number of testing examples =\", n_test)\n",
    "print(\"Image data shape =\", image_shape)\n",
    "print(\"Number of classes =\", n_classes)"
   ]
  },
  {
   "cell_type": "markdown",
   "metadata": {},
   "source": [
    "Visualize the German Traffic Signs Dataset using the pickled file(s). This is open ended, suggestions include: plotting traffic sign images, plotting the count of each sign, etc.\n",
    "\n",
    "The [Matplotlib](http://matplotlib.org/) [examples](http://matplotlib.org/examples/index.html) and [gallery](http://matplotlib.org/gallery.html) pages are a great resource for doing visualizations in Python.\n",
    "\n",
    "**NOTE:** It's recommended you start with something simple first. If you wish to do more, come back to it after you've completed the rest of the sections."
   ]
  },
  {
   "cell_type": "code",
   "execution_count": null,
   "metadata": {
    "collapsed": false
   },
   "outputs": [],
   "source": [
    "### Data exploration visualization goes here.\n",
    "### Feel free to use as many code cells as needed.\n",
    "import matplotlib.pyplot as plt\n",
    "import random\n",
    "import cv2\n",
    "# Visualizations will be shown in the notebook.\n",
    "%matplotlib inline\n",
    "\n",
    "index = random.randint(0, n_train)\n",
    "image = X_train[index].squeeze()\n",
    "\n",
    "plt.figure(figsize=(2, 2))\n",
    "plt.title('Random Training image')\n",
    "plt.imshow(cv2.cvtColor(image, cv2.COLOR_RGB2GRAY), cmap='gray')\n",
    "print('id of image: ', y_train[index])\n",
    "\n",
    "plt.figure(figsize=(5, 3))\n",
    "plt.hist(y_train, 'auto')\n",
    "plt.title('Histogram distribution of count of training labels')\n",
    "plt.show()"
   ]
  },
  {
   "cell_type": "markdown",
   "metadata": {},
   "source": [
    "----\n",
    "\n",
    "## Step 2: Design and Test a Model Architecture\n",
    "\n",
    "Design and implement a deep learning model that learns to recognize traffic signs. Train and test your model on the [German Traffic Sign Dataset](http://benchmark.ini.rub.de/?section=gtsrb&subsection=dataset).\n",
    "\n",
    "There are various aspects to consider when thinking about this problem:\n",
    "\n",
    "- Neural network architecture\n",
    "- Play around preprocessing techniques (normalization, rgb to grayscale, etc)\n",
    "- Number of examples per label (some have more than others).\n",
    "- Generate fake data.\n",
    "\n",
    "Here is an example of a [published baseline model on this problem](http://yann.lecun.com/exdb/publis/pdf/sermanet-ijcnn-11.pdf). It's not required to be familiar with the approach used in the paper but, it's good practice to try to read papers like these.\n",
    "\n",
    "**NOTE:** The LeNet-5 implementation shown in the [classroom](https://classroom.udacity.com/nanodegrees/nd013/parts/fbf77062-5703-404e-b60c-95b78b2f3f9e/modules/6df7ae49-c61c-4bb2-a23e-6527e69209ec/lessons/601ae704-1035-4287-8b11-e2c2716217ad/concepts/d4aca031-508f-4e0b-b493-e7b706120f81) at the end of the CNN lesson is a solid starting point. You'll have to change the number of classes and possibly the preprocessing, but aside from that it's plug and play!"
   ]
  },
  {
   "cell_type": "markdown",
   "metadata": {},
   "source": [
    "### Implementation\n",
    "\n",
    "Use the code cell (or multiple code cells, if necessary) to implement the first step of your project. Once you have completed your implementation and are satisfied with the results, be sure to thoroughly answer the questions that follow."
   ]
  },
  {
   "cell_type": "code",
   "execution_count": null,
   "metadata": {
    "collapsed": false
   },
   "outputs": [],
   "source": [
    "### Preprocess the data here.\n",
    "### Feel free to use as many code cells as needed.\n",
    "from sklearn.utils import shuffle\n",
    "\n",
    "def rgb2gray(rgb):\n",
    "    return np.dot(rgb[...,:3], [0.299, 0.587, 0.114])\n",
    "\n",
    "X_train, y_train = shuffle(X_train, y_train)\n",
    "#I am also converting RGB images to gray but during training with Tensor flow and using tensor flow. \n",
    "print('Shuffling of training data complete')"
   ]
  },
  {
   "cell_type": "markdown",
   "metadata": {},
   "source": [
    "### Question 1 \n",
    "\n",
    "_Describe how you preprocessed the data. Why did you choose that technique?_"
   ]
  },
  {
   "cell_type": "markdown",
   "metadata": {},
   "source": [
    "**Answer:** I shuffeled the training data so that my neural network is not biased toward the order in which a training data is provided. No matter what the training data order is neural network performance should be similar. \n",
    "\n",
    "I am also converting RGB images to gray but during training with Tensor flow and using tensor flow. I am doing this because during visualization of training I realized that images were better looking when they were gray scale and any significant information was not lost so I converted them to gray scale. It will also help make algorithm faster. "
   ]
  },
  {
   "cell_type": "code",
   "execution_count": null,
   "metadata": {
    "collapsed": false
   },
   "outputs": [],
   "source": [
    "### Generate data additional data (OPTIONAL!)\n",
    "### and split the data into training/validation/testing sets here.\n",
    "### Feel free to use as many code cells as needed.\n",
    "from sklearn.model_selection import train_test_split\n",
    "print(\"-------Before split-------\")\n",
    "print(\"Number of training examples =\", n_train)\n",
    "X_train, X_validation, y_train, y_validation = train_test_split(X_train, y_train, test_size=0.20)\n",
    "\n",
    "n_train = X_train.shape[0]\n",
    "n_validation = X_validation.shape[0]\n",
    "\n",
    "assert( len(X_validation) == len(y_validation))\n",
    "\n",
    "print(\"-------After split-------\")\n",
    "print(\"Number of training examples =\", n_train)\n",
    "print(\"Number of validation examples =\", n_test)\n",
    "print(\"Number of testing examples =\", n_test)\n"
   ]
  },
  {
   "cell_type": "markdown",
   "metadata": {},
   "source": [
    "### Question 2\n",
    "\n",
    "_Describe how you set up the training, validation and testing data for your model. **Optional**: If you generated additional data, how did you generate the data? Why did you generate the data? What are the differences in the new dataset (with generated data) from the original dataset?_"
   ]
  },
  {
   "cell_type": "markdown",
   "metadata": {},
   "source": [
    "**Answer:** I took 20% data out of training data as a validation data to evaluate my algorithm during its training phase. As testing data was already given so I am going to use that one."
   ]
  },
  {
   "cell_type": "code",
   "execution_count": null,
   "metadata": {
    "collapsed": false
   },
   "outputs": [],
   "source": [
    "### Define your architecture here.\n",
    "### Feel free to use as many code cells as needed.\n",
    "import tensorflow as tf\n",
    "from tensorflow.contrib.layers import flatten \n",
    "\n",
    "from tensorflow.contrib.layers import flatten\n",
    "\n",
    "def conv2d(x, w, b, stride=1):\n",
    "    x = tf.nn.conv2d(x, w, strides=[1, stride, stride, 1], padding='VALID')\n",
    "    x = tf.nn.bias_add(x, b)\n",
    "    return tf.nn.relu(x)\n",
    "    \n",
    "def maxpool2d(x, k=2, stride=2):\n",
    "    return tf.nn.max_pool(x, ksize=[1, k, k, 1], strides=[1, stride, stride, 1], padding='VALID')\n",
    "\n",
    "def one_hot_encode(x):\n",
    "    return tf.one_hot(x, n_classes)\n",
    "\n",
    "def LeNet(x, dropout_prob):    \n",
    "    # Arguments used for tf.truncated_normal, randomly defines variables for the weights and biases for each layer\n",
    "    with tf.name_scope(\"Params\"):\n",
    "        mu = 0\n",
    "        sigma = 0.1\n",
    "\n",
    "        weights = {\"wc1\": tf.Variable(tf.truncated_normal(shape=(5, 5, 1, 6), mean=mu, stddev=sigma)),\n",
    "                   \"wc2\": tf.Variable(tf.truncated_normal(shape=(5, 5, 6, 16), mean=mu, stddev=sigma)),\n",
    "                   \"wd1\": tf.Variable(tf.truncated_normal(shape=(5*5*16, 120), mean=mu, stddev=sigma)),\n",
    "                   \"wd2\": tf.Variable(tf.truncated_normal(shape=(120, 84), mean=mu, stddev=sigma)),\n",
    "                   \"out\": tf.Variable(tf.truncated_normal(shape=(84, n_classes), mean=mu, stddev=sigma))}\n",
    "\n",
    "        biases = {\"bc1\": tf.Variable(tf.zeros([6])),\n",
    "                 \"bc2\": tf.Variable(tf.zeros([16])),\n",
    "                 \"bd1\": tf.Variable(tf.zeros([120])),\n",
    "                 \"bd2\": tf.Variable(tf.zeros([84])),\n",
    "                 \"out\": tf.Variable(tf.zeros([n_classes]))}\n",
    "    \n",
    "    # Layer 1: Convolutional. Input = 32x32x3. Output = 28x28x6.\n",
    "    # Activation.\n",
    "    with tf.name_scope(\"Conv1\"):\n",
    "        conv1 = conv2d(x, weights[\"wc1\"], biases[\"bc1\"])\n",
    "    # Pooling. Input = 28x28x6. Output = 14x14x6.\n",
    "    with tf.name_scope(\"Maxpooling1\"):\n",
    "        conv1 = maxpool2d(conv1)\n",
    "    \n",
    "    # Layer 2: Convolutional. Output = 10x10x16.\n",
    "    # Activation.\n",
    "    with tf.name_scope(\"Conv2\"):\n",
    "        conv2 = conv2d(conv1, weights[\"wc2\"], biases[\"bc2\"])\n",
    "    # Pooling. Input = 10x10x16. Output = 5x5x16.\n",
    "    \n",
    "    with tf.name_scope(\"Maxpooling2\"):\n",
    "        conv2 = maxpool2d(conv2)\n",
    "    \n",
    "    # Flatten. Input = 5x5x16. Output = 400.\n",
    "    with tf.name_scope(\"Flatten\"):\n",
    "        fc1 = flatten(conv2)\n",
    "    # Layer 3: Fully Connected. Input = 400. Output = 120.\n",
    "    with tf.name_scope(\"FC1\"):\n",
    "        fc1 = tf.add(tf.matmul(fc1, weights[\"wd1\"]), biases[\"bd1\"])\n",
    "    # Activation.\n",
    "    with tf.name_scope(\"FC1-Activation\"):\n",
    "        fc1 = tf.nn.relu(fc1)\n",
    "        fc1 = tf.nn.dropout(fc1, dropout_prob)\n",
    "    # Layer 4: Fully Connected. Input = 120. Output = 84.\n",
    "    with tf.name_scope(\"FC2\"):\n",
    "        fc2 = tf.add(tf.matmul(fc1, weights[\"wd2\"]), biases[\"bd2\"])\n",
    "    # Activation.\n",
    "    with tf.name_scope(\"FC2-Activation\"):\n",
    "        fc2 = tf.nn.relu(fc2)\n",
    "        fc2 = tf.nn.dropout(fc2, dropout_prob)\n",
    "    # Layer 5: Fully Connected. Input = 84. Output = 43.\n",
    "    with tf.name_scope(\"Output-layer\"):\n",
    "        logits = tf.add(tf.matmul(fc2, weights[\"out\"]), biases[\"out\"])\n",
    "    return logits"
   ]
  },
  {
   "cell_type": "markdown",
   "metadata": {},
   "source": [
    "### Question 3\n",
    "\n",
    "_What does your final architecture look like? (Type of model, layers, sizes, connectivity, etc.)  For reference on how to build a deep neural network using TensorFlow, see [Deep Neural Network in TensorFlow\n",
    "](https://classroom.udacity.com/nanodegrees/nd013/parts/fbf77062-5703-404e-b60c-95b78b2f3f9e/modules/6df7ae49-c61c-4bb2-a23e-6527e69209ec/lessons/b516a270-8600-4f93-a0a3-20dfeabe5da6/concepts/83a3a2a2-a9bd-4b7b-95b0-eb924ab14432) from the classroom._\n"
   ]
  },
  {
   "cell_type": "markdown",
   "metadata": {},
   "source": [
    "**Answer:** I used the LeNet-5 architecture that I built in a previous lab in class room with parameters, weights and biases optimized for traffic sign classifier project. It has 2 convolution layers each one followed by a max-pooling/subsampling. Then it has 3 fully connected layers with 43 output classes. I have used ReLu as activation function. Here is how each layer transforms data. \n",
    "\n",
    "- **RGB2Gray:** Convert all images to gray, so transforming data from [?, 32, 32, 3] to [?, 32, 32, 1]\n",
    "- **conv1:** Takes input [?, 32, 32, 1] images and transforms it to [?, 28, 28, 6]. Size of W for this layer is [5, 5, 1, 6] and size of bias is [6]. Stride is 1 and padding type is 'VALID'.\n",
    "- **max-pooling1:** It transforms each [28, 28, 6] image to [14, 14, 6]. Filter size is [2,2] and stride is 2 with 'VALID' padding\n",
    "- **conv2:** Takes input [?, 14, 14, 6] images and transforms it to [?, 10, 10, 16]. Size of W for this layer is [5, 5, 6, 16] and size of bias is [16]. Stride is 1 and padding type is 'VALID'.\n",
    "- **max-pooling2:** It transforms each [10, 10, 16] image to [5, 5, 16]. Filter size is [2,2] and stride is 2 with 'VALID' padding\n",
    "\n",
    "- **Flatten Data:** Now flatten the data to 1-D form of [batch_size, 5x5x16].\n",
    "\n",
    "- **FC1:** Takes input [?, 5x5x16], applies weights of size [5x5x16, 120] and produces output of [?, 120]\n",
    "- **FC2:** Takes input [?, 120], applies weights of size [120, 84] and produces output of [?, 84]\n",
    "- **Output:** Takes input [?, 84], applies weights of size [84, 43] and produces output of [?, 43] where 43 is the number of unique classes we have. "
   ]
  },
  {
   "cell_type": "markdown",
   "metadata": {},
   "source": [
    "**Visualization of the Network**\n",
    "<img src=\"cnn-visualization1.png\">"
   ]
  },
  {
   "cell_type": "code",
   "execution_count": null,
   "metadata": {
    "collapsed": false
   },
   "outputs": [],
   "source": [
    "### Train your model here.\n",
    "### Feel free to use as many code cells as needed.\n",
    "\n",
    "learning_rate = 0.001\n",
    "EPOCHS = 15\n",
    "BATCH_SIZE = 120\n",
    "DROPOUT_PROB_VALUE = 0.75\n",
    "\n",
    "with tf.name_scope(\"input\"):\n",
    "    x = tf.placeholder(tf.float32, (None, 32, 32, 3))\n",
    "    x_gray = tf.image.rgb_to_grayscale(x)\n",
    "    y = tf.placeholder(tf.int32, (None))\n",
    "    one_hot_y = tf.one_hot(y, n_classes)\n",
    "    dropout_prob = tf.placeholder(tf.float32)\n",
    "\n",
    "logits = LeNet(x_gray, dropout_prob)\n",
    "with tf.name_scope('cost'):\n",
    "    cost = tf.reduce_mean(tf.nn.softmax_cross_entropy_with_logits(logits, one_hot_y))\n",
    "# tf.summary.scalar('cost', cost)\n",
    "\n",
    "with tf.name_scope(\"Optimizer\"):\n",
    "    optimizer = tf.train.AdamOptimizer(learning_rate = learning_rate).minimize(cost)\n",
    "\n",
    "with tf.name_scope(\"Correct-Prediction\"):\n",
    "    correct_prediction = tf.equal(tf.argmax(logits, 1), tf.argmax(one_hot_y, 1))\n",
    "with tf.name_scope('accuracy'):\n",
    "    accuracy_operation = tf.reduce_mean(tf.cast(correct_prediction, tf.float32))\n",
    "tf.summary.scalar('accuracy', accuracy_operation)\n",
    "\n",
    "saver = tf.train.Saver()\n",
    "merged = tf.summary.merge_all()"
   ]
  },
  {
   "cell_type": "code",
   "execution_count": null,
   "metadata": {
    "collapsed": true
   },
   "outputs": [],
   "source": [
    "def evaluate_model_on_data(x_data, y_data, batch_size, dropout_prob):\n",
    "    n_examples = len(x_data)\n",
    "    print('validation examples count: ', n_examples)\n",
    "    session = tf.get_default_session()\n",
    "    total_accuracy = 0\n",
    "    \n",
    "    for i in range(0, n_examples, batch_size):\n",
    "        batch_x, batch_y = x_data[i:i + batch_size], y_data[i:i + batch_size]\n",
    "        \n",
    "        accuracy = session.run(accuracy_operation, feed_dict={x: batch_x, y: batch_y})\n",
    "        total_accuracy += (accuracy * len(batch_x))\n",
    "        \n",
    "    return total_accuracy / n_examples"
   ]
  },
  {
   "cell_type": "code",
   "execution_count": null,
   "metadata": {
    "collapsed": false
   },
   "outputs": [],
   "source": [
    "with tf.Session() as session:\n",
    "    session.run(tf.global_variables_initializer())\n",
    "    summary_writer = tf.summary.FileWriter('logs/test', session.graph)\n",
    "    num_examples = len(X_train)\n",
    "    \n",
    "    print(\"Training...\")\n",
    "    print()\n",
    "    \n",
    "    for epoch in range(EPOCHS):\n",
    "        #shuffling data for each epoch so that model is \n",
    "        #trained of different order of data and is not\n",
    "        #biased toward any specific order of data\n",
    "        X_train, y_train = shuffle(X_train, y_train)\n",
    "        \n",
    "        for offset in range(0, num_examples, BATCH_SIZE):\n",
    "            x_batch, y_batch = X_train[offset:offset + BATCH_SIZE], y_train[offset:offset + BATCH_SIZE]\n",
    "            session.run(optimizer, feed_dict={x: x_batch , y: y_batch, dropout_prob: DROPOUT_PROB_VALUE})\n",
    "            \n",
    "            \n",
    "#         validation_accuracy = evaluate_model_on_data(X_validation, y_validation, BATCH_SIZE)\n",
    "        summary, validation_accuracy = session.run([merged, accuracy_operation], \n",
    "                                                   feed_dict={x: X_validation , y: y_validation, dropout_prob: 1.0})\n",
    "        print(\"EPOCH {} ...\".format(epoch + 1))\n",
    "        print(\"Validation Accuracy = {:.3f}\".format(validation_accuracy))\n",
    "        print()\n",
    "        summary_writer.add_summary(summary, epoch)\n",
    "    \n",
    "    test_accuracy = session.run(accuracy_operation, feed_dict={x: X_test, y: y_test, dropout_prob: 1.0})\n",
    "    print(\"Test Accuracy = {:.3f}\".format(test_accuracy))\n",
    "    print()\n",
    "        \n",
    "    saver.save(session, 'traffic-sign-classifier.ckpt')\n",
    "    print('Model saved')"
   ]
  },
  {
   "cell_type": "markdown",
   "metadata": {},
   "source": [
    "### Question 4\n",
    "\n",
    "_How did you train your model? (Type of optimizer, batch size, epochs, hyperparameters, etc.)_\n"
   ]
  },
  {
   "cell_type": "markdown",
   "metadata": {},
   "source": [
    "**Answer:** I used following parameter values during my training of model.\n",
    "- Optimizer: Adam\n",
    "- batch size: 200\n",
    "- epochs = 15\n",
    "- learning rate = 0.001\n",
    "- keep probability for dropout = 0.75\n",
    "- stddev=0.1 and mean=0 for Weights random generation from a normal distribution. "
   ]
  },
  {
   "cell_type": "markdown",
   "metadata": {},
   "source": [
    "### Question 5\n",
    "\n",
    "\n",
    "_What approach did you take in coming up with a solution to this problem? It may have been a process of trial and error, in which case, outline the steps you took to get to the final solution and why you chose those steps. Perhaps your solution involved an already well known implementation or architecture. In this case, discuss why you think this is suitable for the current problem._"
   ]
  },
  {
   "cell_type": "markdown",
   "metadata": {},
   "source": [
    "**Answer:** I used LeNet architecture learned in class room and adapted it to this problem. LeNet has already been used to classify traffic signs and it showed excellent results. After applying LeNet code learned in classroom as it was I got about 93% accuracy on validation set.\n",
    "\n",
    "**Please discuss how did you choose the optimizer. (Missed Answer)**\n",
    "From my quick research on Adam Optimizer that I did when I first saw this algorithm being used in classroom lab for LeNet-5 I learned that it uses the concept of momentum (moving averages of parameters) to adapt the learning rate and it requires less hyper parameter fine tuning but the down side is it uses more memory and time. After looking at traffic sign data set count I thought my system will be good with Adam as optimizer and I have to do less hyper parameter fine tuning. That’s why Adam was my first choice. \n",
    "\n",
    "I also tried Stochastic Gradient Descent as well on the same parameters but it’s accuracy was low.\n",
    "\n",
    "**Please discuss how did you tell a convolutional layer is well suited for this problem. (Missed Answer)**\n",
    "As input data was images and no matter where in the image the traffic sign is we just need to classify it and translational information of the sign in the image is not important so CNN with weight sharing was an obvious choice. CNNs are well suited for images input and weight sharing is well suited when we need translation invariance. \n",
    "\n",
    "All convolutional layers were taken from LeNet-5 architecture from the lab with exactly same parameters (number of neurons/weights etc.) as I thought (also recommended in project notebook) it will be a good starting point. I only adapted the first convolutional layer parameters depth (from 1 to 3) and output layers output count (from 10 to 43) as those were different in this case. \n",
    "\n",
    "Although I did try different number of neurons, layers to check if I get significant improved accuracy.\n",
    "\n",
    "**Please discuss how did you choose the particular activation (Missed Answer)**\n",
    "Sigmoid and ReLu were the two options I knew of for classifying complex even non-linear data with simple derivatives. According to my research ReLu is more simple, more recent and works well so I simply used it. I did not even try sigmoid even though I think I should have just to see its accuracy.\n",
    "\n",
    "**Please discuss how did you tune the hyperparameter. (Missed Answer)**\n",
    "I picked all the initial hyper parameter values from classroom lab on LeNet-5 as a starting point. Then I experimented with them by changing each and looking at the accuracy I got on validation data set. For example I got a little bit improved accuracy when I set the batch_size = 150-200 or the learning rate=0.0001 or epochs=15. Results were better with batch size=150-200 (I did not tried above that), epochs=13-15 and learning rate=0.001\n",
    "\n",
    "I also added dropout regularization and tried different keep probs like 0.50, 0.70, 0.80 but the best results I got were on 0.75. \n",
    "\n",
    "When I realized that any information was not being lost even in gray scale mode and images were less noisy and more clear to predict so I converted images to gray and it gave a significant accuracy improvement. \n",
    "\n",
    "After combining all these I got a validation accuracy of almost 97% and test accuracy of 91%. "
   ]
  },
  {
   "cell_type": "markdown",
   "metadata": {},
   "source": [
    "---\n",
    "\n",
    "## Step 3: Test a Model on New Images\n",
    "\n",
    "Take several pictures of traffic signs that you find on the web or around you (at least five), and run them through your classifier on your computer to produce example results. The classifier might not recognize some local signs but it could prove interesting nonetheless.\n",
    "\n",
    "You may find `signnames.csv` useful as it contains mappings from the class id (integer) to the actual sign name."
   ]
  },
  {
   "cell_type": "markdown",
   "metadata": {},
   "source": [
    "### Implementation\n",
    "\n",
    "Use the code cell (or multiple code cells, if necessary) to implement the first step of your project. Once you have completed your implementation and are satisfied with the results, be sure to thoroughly answer the questions that follow."
   ]
  },
  {
   "cell_type": "code",
   "execution_count": null,
   "metadata": {
    "collapsed": false
   },
   "outputs": [],
   "source": [
    "### Load the images and plot them here.\n",
    "### Feel free to use as many code cells as needed.\n",
    "import cv2\n",
    "import numpy as np\n",
    "import matplotlib.image as mpimg\n",
    "\n",
    "my_image1 = mpimg.imread('test-images/work.jpg')\n",
    "my_image2 = mpimg.imread('test-images/yield-sign.jpg')\n",
    "my_image3 = mpimg.imread('test-images/end-of-speed-limits.jpg')\n",
    "my_image4 = mpimg.imread('test-images/traffic-signals.jpg')\n",
    "my_image5 = mpimg.imread('test-images/turn-right.jpeg')\n",
    "\n",
    "assert(my_image1.shape == (32, 32, 3))\n",
    "print('My image shape: ', my_image1.shape)\n",
    "\n",
    "my_test_images = np.array([my_image1, my_image2, my_image3, my_image4, my_image5])\n",
    "my_test_labels = np.array([25, 13, 32, 26, 33])\n",
    "\n",
    "# plt.imshow(cv2.cvtColor(my_image1, cv2.COLOR_RGB2GRAY), cmap='gray')\n",
    "# plt.imshow(cv2.cvtColor(my_test_images[4], cv2.COLOR_RGB2GRAY), cmap='gray')\n",
    "n_my_test_images = len(my_test_labels)\n",
    "print('My test images count: ', n_my_test_images)\n",
    "\n",
    "for index in range(len(my_test_labels)):\n",
    "    plt.figure(figsize=(2, 2))\n",
    "    plt.title('Image correct id: {} '.format(my_test_labels[index]))\n",
    "    plt.imshow(cv2.cvtColor(my_test_images[index], cv2.COLOR_RGB2GRAY), cmap='gray')"
   ]
  },
  {
   "cell_type": "markdown",
   "metadata": {},
   "source": [
    "### Question 6\n",
    "\n",
    "_Choose five candidate images of traffic signs and provide them in the report. Are there any particular qualities of the image(s) that might make classification difficult? It could be helpful to plot the images in the notebook._\n",
    "\n"
   ]
  },
  {
   "cell_type": "markdown",
   "metadata": {},
   "source": [
    "**Answer:** I think some images are not universal so it might be a problem for model to identify. Also, I rescaled images manually and they are not smoothed out so that may affect the prediction of model. "
   ]
  },
  {
   "cell_type": "code",
   "execution_count": null,
   "metadata": {
    "collapsed": false
   },
   "outputs": [],
   "source": [
    "### Run the predictions here.\n",
    "### Feel free to use as many code cells as needed.\n",
    "\n",
    "# softmax_probs = tf.nn.softmax(logits)\n",
    "predictions = tf.argmax(logits, 1)\n",
    "with tf.Session() as session:\n",
    "    saver.restore(session, tf.train.latest_checkpoint('.'))\n",
    "    logits_values = session.run(predictions, feed_dict={x: my_test_images, dropout_prob: 1.0})\n",
    "    my_test_accuracy = session.run(accuracy_operation, \n",
    "                                   feed_dict={x: my_test_images, y: my_test_labels, dropout_prob: 1.0})\n",
    "    \n",
    "    print('Correct ids: ', my_test_labels)\n",
    "    print('Predicted Ids: ', logits_values)\n",
    "    print(\"My test images Accuracy = {:.3f}\".format(my_test_accuracy))\n",
    "    print()"
   ]
  },
  {
   "cell_type": "markdown",
   "metadata": {},
   "source": [
    "### Question 7\n",
    "\n",
    "_Is your model able to perform equally well on captured pictures when compared to testing on the dataset? The simplest way to do this check the accuracy of the predictions. For example, if the model predicted 1 out of 5 signs correctly, it's 20% accurate._\n",
    "\n",
    "_**NOTE:** You could check the accuracy manually by using `signnames.csv` (same directory). This file has a mapping from the class id (0-42) to the corresponding sign name. So, you could take the class id the model outputs, lookup the name in `signnames.csv` and see if it matches the sign from the image._\n"
   ]
  },
  {
   "cell_type": "markdown",
   "metadata": {},
   "source": [
    "**Answer:** No, it gave me 60% accuracy on my collected images which is significantly less than what I obtained on validation and test sets. In fact, on some runs I got 40% accuracy. "
   ]
  },
  {
   "cell_type": "code",
   "execution_count": null,
   "metadata": {
    "collapsed": false
   },
   "outputs": [],
   "source": [
    "### Visualize the softmax probabilities here.\n",
    "### Feel free to use as many code cells as needed.\n",
    "softmax_probs = tf.nn.softmax(logits)\n",
    "with tf.Session() as session:\n",
    "    saver.restore(session, tf.train.latest_checkpoint('.'))\n",
    "    softmax_prob_values = session.run(softmax_probs, feed_dict={x: my_test_images, dropout_prob: 1.0})\n",
    "    top_values,ids = session.run(tf.nn.top_k(softmax_prob_values, k=4))\n",
    "    print(\"Top 4 probabilitis for each prediction: \", np.around(top_values,3))\n",
    "    print('Correct ids: ', my_test_labels)\n",
    "    print(\"Top 4 ids for each prediction: \", ids)"
   ]
  },
  {
   "cell_type": "markdown",
   "metadata": {},
   "source": [
    "### Question 8\n",
    "\n",
    "*Use the model's softmax probabilities to visualize the **certainty** of its predictions, [`tf.nn.top_k`](https://www.tensorflow.org/versions/r0.12/api_docs/python/nn.html#top_k) could prove helpful here. Which predictions is the model certain of? Uncertain? If the model was incorrect in its initial prediction, does the correct prediction appear in the top k? (k should be 5 at most)*\n",
    "\n",
    "`tf.nn.top_k` will return the values and indices (class ids) of the top k predictions. So if k=3, for each sign, it'll return the 3 largest probabilities (out of a possible 43) and the correspoding class ids.\n",
    "\n",
    "Take this numpy array as an example:\n",
    "\n",
    "```\n",
    "# (5, 6) array\n",
    "a = np.array([[ 0.24879643,  0.07032244,  0.12641572,  0.34763842,  0.07893497,\n",
    "         0.12789202],\n",
    "       [ 0.28086119,  0.27569815,  0.08594638,  0.0178669 ,  0.18063401,\n",
    "         0.15899337],\n",
    "       [ 0.26076848,  0.23664738,  0.08020603,  0.07001922,  0.1134371 ,\n",
    "         0.23892179],\n",
    "       [ 0.11943333,  0.29198961,  0.02605103,  0.26234032,  0.1351348 ,\n",
    "         0.16505091],\n",
    "       [ 0.09561176,  0.34396535,  0.0643941 ,  0.16240774,  0.24206137,\n",
    "         0.09155967]])\n",
    "```\n",
    "\n",
    "Running it through `sess.run(tf.nn.top_k(tf.constant(a), k=3))` produces:\n",
    "\n",
    "```\n",
    "TopKV2(values=array([[ 0.34763842,  0.24879643,  0.12789202],\n",
    "       [ 0.28086119,  0.27569815,  0.18063401],\n",
    "       [ 0.26076848,  0.23892179,  0.23664738],\n",
    "       [ 0.29198961,  0.26234032,  0.16505091],\n",
    "       [ 0.34396535,  0.24206137,  0.16240774]]), indices=array([[3, 0, 5],\n",
    "       [0, 1, 4],\n",
    "       [0, 5, 1],\n",
    "       [1, 3, 5],\n",
    "       [1, 4, 3]], dtype=int32))\n",
    "```\n",
    "\n",
    "Looking just at the first row we get `[ 0.34763842,  0.24879643,  0.12789202]`, you can confirm these are the 3 largest probabilities in `a`. You'll also notice `[3, 0, 5]` are the corresponding indices."
   ]
  },
  {
   "cell_type": "markdown",
   "metadata": {},
   "source": [
    "**Answer:** Looking at softmax probabilities, the model is certain of first 3 predictions but uncertain of the 4th and 5th predictions which it also predicted wrong. No, the images ids model predicted incorrect are not in top 3 predictions. "
   ]
  },
  {
   "cell_type": "markdown",
   "metadata": {},
   "source": [
    "> **Note**: Once you have completed all of the code implementations and successfully answered each question above, you may finalize your work by exporting the iPython Notebook as an HTML document. You can do this by using the menu above and navigating to  \\n\",\n",
    "    \"**File -> Download as -> HTML (.html)**. Include the finished document along with this notebook as your submission."
   ]
  },
  {
   "cell_type": "markdown",
   "metadata": {
    "collapsed": true
   },
   "source": []
  },
  {
   "cell_type": "code",
   "execution_count": null,
   "metadata": {
    "collapsed": true
   },
   "outputs": [],
   "source": []
  }
 ],
 "metadata": {
  "anaconda-cloud": {},
  "kernelspec": {
   "display_name": "Python 3",
   "language": "python",
   "name": "python3"
  },
  "language_info": {
   "codemirror_mode": {
    "name": "ipython",
    "version": 3
   },
   "file_extension": ".py",
   "mimetype": "text/x-python",
   "name": "python",
   "nbconvert_exporter": "python",
   "pygments_lexer": "ipython3",
   "version": "3.5.2"
  },
  "widgets": {
   "state": {},
   "version": "1.1.2"
  }
 },
 "nbformat": 4,
 "nbformat_minor": 1
}
